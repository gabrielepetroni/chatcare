{
 "cells": [
  {
   "cell_type": "markdown",
   "metadata": {
    "id": "Usgy1fAps6f7"
   },
   "source": [
    "<!-- Codes by HTMLcodes.ws -->\n",
    "<h1 style = \"color:Blue;font-family:newtimeroman;font-size:250%;text-align:center;border-radius:15px 50px;\">Notebook for generating Mental Health prompt-response pairs in JSONL prepared for fine-tuning</h1>"
   ]
  },
  {
   "cell_type": "code",
   "execution_count": 3,
   "metadata": {
    "colab": {
     "base_uri": "https://localhost:8080/",
     "height": 424
    },
    "executionInfo": {
     "elapsed": 663,
     "status": "ok",
     "timestamp": 1713207252512,
     "user": {
      "displayName": "RICARDO ENRIQUE PALOMARES MARTINEZ",
      "userId": "10930254797148390885"
     },
     "user_tz": -120
    },
    "id": "n-b09v6ks6f-",
    "outputId": "bde13e3c-851e-472a-ee47-c7a338e3d8f7"
   },
   "outputs": [],
   "source": [
    "import json\n",
    "\n",
    "# Open text file with conversations in the following format\n",
    "# User: I'm feeling really anxious lately\n",
    "# Chatbot: It's understandable to feel anxious...\n",
    "\n",
    "try:\n",
    "    infile = open('conv-ft1.txt', 'r')\n",
    "    outfile = open('conv-ft1.jsonl', 'w')\n",
    "    user_line = infile.readline()\n",
    "    entries_count = 0\n",
    "    while user_line:\n",
    "        assi_line = infile.readline()\n",
    "        if (assi_line):\n",
    "            json_line = {\"messages\": [{\"role\": \"system\", \"content\": \"You are an AI assistant trying to help a young user that may have mental health concerns and does not have direct access to a professional psychologist.\"},\n",
    "                                      {\"role\": \"user\", \"content\": user_line},\n",
    "                                      {\"role\": \"assistant\", \"content\": assi_line}\n",
    "                                     ]\n",
    "                        }\n",
    "            print(json.dumps(json_line), file=outfile)\n",
    "            entries_count = entries_count + 1\n",
    "        user_line = infile.readline()\n",
    "except IOError:\n",
    "    print(\"Something went wrong while opening files\")\n",
    "else:\n",
    "    infile.close()\n",
    "    outfile.close()    \n",
    "    print(\"Process completed\")\n",
    "    print(f\"Entries dumped to JSONL file: {entries_count}\")\n",
    "    print()"
   ]
  },
  {
   "cell_type": "code",
   "execution_count": null,
   "metadata": {},
   "outputs": [],
   "source": []
  }
 ],
 "metadata": {
  "colab": {
   "provenance": []
  },
  "kaggle": {
   "accelerator": "none",
   "dataSources": [
    {
     "datasetId": 2594075,
     "sourceId": 4429121,
     "sourceType": "datasetVersion"
    }
   ],
   "dockerImageVersionId": 30497,
   "isGpuEnabled": false,
   "isInternetEnabled": false,
   "language": "python",
   "sourceType": "notebook"
  },
  "kernelspec": {
   "display_name": "Python 3 (ipykernel)",
   "language": "python",
   "name": "python3"
  },
  "language_info": {
   "codemirror_mode": {
    "name": "ipython",
    "version": 3
   },
   "file_extension": ".py",
   "mimetype": "text/x-python",
   "name": "python",
   "nbconvert_exporter": "python",
   "pygments_lexer": "ipython3",
   "version": "3.11.5"
  }
 },
 "nbformat": 4,
 "nbformat_minor": 4
}
