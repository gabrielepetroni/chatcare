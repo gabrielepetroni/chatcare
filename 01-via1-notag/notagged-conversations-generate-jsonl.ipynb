{
 "cells": [
  {
   "cell_type": "markdown",
   "metadata": {
    "id": "Usgy1fAps6f7"
   },
   "source": [
    "<!-- Codes by HTMLcodes.ws -->\n",
    "<h1 style = \"color:Blue;font-family:newtimeroman;font-size:250%;text-align:center;border-radius:15px 50px;\">Notebook for generating Mental Health prompt-response pairs in JSONL prepared for fine-tuning</h1>"
   ]
  },
  {
   "cell_type": "code",
   "execution_count": 1,
   "metadata": {
    "colab": {
     "base_uri": "https://localhost:8080/",
     "height": 424
    },
    "executionInfo": {
     "elapsed": 663,
     "status": "ok",
     "timestamp": 1713207252512,
     "user": {
      "displayName": "RICARDO ENRIQUE PALOMARES MARTINEZ",
      "userId": "10930254797148390885"
     },
     "user_tz": -120
    },
    "id": "n-b09v6ks6f-",
    "outputId": "bde13e3c-851e-472a-ee47-c7a338e3d8f7"
   },
   "outputs": [],
   "source": [
    "import json\n",
    "import tiktoken"
   ]
  },
  {
   "cell_type": "code",
   "execution_count": 2,
   "metadata": {
    "colab": {
     "base_uri": "https://localhost:8080/",
     "height": 424
    },
    "executionInfo": {
     "elapsed": 663,
     "status": "ok",
     "timestamp": 1713207252512,
     "user": {
      "displayName": "RICARDO ENRIQUE PALOMARES MARTINEZ",
      "userId": "10930254797148390885"
     },
     "user_tz": -120
    },
    "id": "n-b09v6ks6f-",
    "outputId": "bde13e3c-851e-472a-ee47-c7a338e3d8f7"
   },
   "outputs": [],
   "source": [
    "# You can run this cell to check tiktoken is correctly installed and available\n",
    "encoding = tiktoken.encoding_for_model(\"gpt-3.5-turbo\")"
   ]
  },
  {
   "cell_type": "code",
   "execution_count": 3,
   "metadata": {},
   "outputs": [],
   "source": [
    "# Function available at https://cookbook.openai.com/examples/how_to_count_tokens_with_tiktoken\n",
    "def num_tokens_from_messages(messages, model=\"gpt-3.5-turbo-0613\"):\n",
    "    \"\"\"Return the number of tokens used by a list of messages.\"\"\"\n",
    "    try:\n",
    "        encoding = tiktoken.encoding_for_model(model)\n",
    "    except KeyError:\n",
    "        print(\"Warning: model not found. Using cl100k_base encoding.\")\n",
    "        encoding = tiktoken.get_encoding(\"cl100k_base\")\n",
    "    if model in {\n",
    "        \"gpt-3.5-turbo-0613\",\n",
    "        \"gpt-3.5-turbo-16k-0613\",\n",
    "        \"gpt-4-0314\",\n",
    "        \"gpt-4-32k-0314\",\n",
    "        \"gpt-4-0613\",\n",
    "        \"gpt-4-32k-0613\",\n",
    "        }:\n",
    "        tokens_per_message = 3\n",
    "        tokens_per_name = 1\n",
    "    elif model == \"gpt-3.5-turbo-0301\":\n",
    "        tokens_per_message = 4  # every message follows <|start|>{role/name}\\n{content}<|end|>\\n\n",
    "        tokens_per_name = -1  # if there's a name, the role is omitted\n",
    "    elif \"gpt-3.5-turbo\" in model:\n",
    "        print(\"Warning: gpt-3.5-turbo may update over time. Returning num tokens assuming gpt-3.5-turbo-0613.\")\n",
    "        return num_tokens_from_messages(messages, model=\"gpt-3.5-turbo-0613\")\n",
    "    elif \"gpt-4\" in model:\n",
    "        print(\"Warning: gpt-4 may update over time. Returning num tokens assuming gpt-4-0613.\")\n",
    "        return num_tokens_from_messages(messages, model=\"gpt-4-0613\")\n",
    "    else:\n",
    "        raise NotImplementedError(\n",
    "            f\"\"\"num_tokens_from_messages() is not implemented for model {model}. See https://github.com/openai/openai-python/blob/main/chatml.md for information on how messages are converted to tokens.\"\"\"\n",
    "        )\n",
    "    num_tokens = 0\n",
    "    for message in messages:\n",
    "        num_tokens += tokens_per_message\n",
    "        for key, value in message.items():\n",
    "            num_tokens += len(encoding.encode(value))\n",
    "            if key == \"name\":\n",
    "                num_tokens += tokens_per_name\n",
    "    num_tokens += 3  # every reply is primed with <|start|>assistant<|message|>\n",
    "    return num_tokens"
   ]
  },
  {
   "cell_type": "code",
   "execution_count": 4,
   "metadata": {
    "colab": {
     "base_uri": "https://localhost:8080/",
     "height": 424
    },
    "executionInfo": {
     "elapsed": 663,
     "status": "ok",
     "timestamp": 1713207252512,
     "user": {
      "displayName": "RICARDO ENRIQUE PALOMARES MARTINEZ",
      "userId": "10930254797148390885"
     },
     "user_tz": -120
    },
    "id": "n-b09v6ks6f-",
    "outputId": "bde13e3c-851e-472a-ee47-c7a338e3d8f7"
   },
   "outputs": [
    {
     "name": "stdout",
     "output_type": "stream",
     "text": [
      "Process completed\n",
      "Entries dumped to JSONL file: 100\n",
      "\n"
     ]
    }
   ],
   "source": [
    "# Open text file with conversations in the following format\n",
    "# User: I'm feeling really anxious lately\n",
    "# Chatbot: It's understandable to feel anxious...\n",
    "\n",
    "lista_jsonlines = []\n",
    "\n",
    "try:\n",
    "    infile = open('conv-ft1.txt', 'r')\n",
    "    outfile = open('conv-ft1.jsonl', 'w')\n",
    "    inline = infile.readline()\n",
    "    entries_count = 0\n",
    "    while inline:\n",
    "        if (inline[0:4] == \"User\"):\n",
    "            user_line = inline[6:]\n",
    "        else:\n",
    "            assi_line = inline[9:]\n",
    "            json_line = {\"messages\": [{\"role\": \"system\",    \"content\": \"You are an AI assistant trying to help a young user that may have mental health concerns and does not have direct access to a professional psychologist.\"},\n",
    "                                      {\"role\": \"user\",      \"content\": user_line},\n",
    "                                      {\"role\": \"assistant\", \"content\": assi_line}\n",
    "                                     ]\n",
    "                        }\n",
    "            print(json.dumps(json_line), file=outfile)\n",
    "            lista_jsonlines.append(json_line)\n",
    "            entries_count = entries_count + 1\n",
    "        inline = infile.readline()\n",
    "except IOError:\n",
    "    print(\"Something went wrong while opening files\")\n",
    "else:\n",
    "    infile.close()\n",
    "    outfile.close()    \n",
    "    print(\"Process completed\")\n",
    "    print(f\"Entries dumped to JSONL file: {entries_count}\")\n",
    "    print()"
   ]
  },
  {
   "cell_type": "code",
   "execution_count": 5,
   "metadata": {},
   "outputs": [
    {
     "name": "stdout",
     "output_type": "stream",
     "text": [
      "gpt-3.5-turbo-0301\n",
      "17542 prompt tokens counted by num_tokens_from_messages().\n",
      "gpt-3.5-turbo-0613\n",
      "17242 prompt tokens counted by num_tokens_from_messages().\n",
      "gpt-4-0314\n",
      "17242 prompt tokens counted by num_tokens_from_messages().\n",
      "gpt-4-0613\n",
      "17242 prompt tokens counted by num_tokens_from_messages().\n",
      "\n"
     ]
    }
   ],
   "source": [
    "# Estimated token count for GPT model, so we can calculate prices at\n",
    "# https://azure.microsoft.com/es-es/pricing/calculator/\n",
    "for model in [\n",
    "    \"gpt-3.5-turbo-0301\",\n",
    "    \"gpt-3.5-turbo-0613\",\n",
    "    \"gpt-4-0314\",\n",
    "    \"gpt-4-0613\",\n",
    "    ]:\n",
    "    print(model)\n",
    "    total_tokens = 0\n",
    "    for json_line in lista_jsonlines:\n",
    "        total_tokens += num_tokens_from_messages(json_line['messages'], model)\n",
    "    print(f\"{total_tokens} prompt tokens counted by num_tokens_from_messages().\")\n",
    "print()"
   ]
  },
  {
   "cell_type": "code",
   "execution_count": null,
   "metadata": {},
   "outputs": [],
   "source": []
  }
 ],
 "metadata": {
  "colab": {
   "provenance": []
  },
  "kaggle": {
   "accelerator": "none",
   "dataSources": [
    {
     "datasetId": 2594075,
     "sourceId": 4429121,
     "sourceType": "datasetVersion"
    }
   ],
   "dockerImageVersionId": 30497,
   "isGpuEnabled": false,
   "isInternetEnabled": false,
   "language": "python",
   "sourceType": "notebook"
  },
  "kernelspec": {
   "display_name": "Python 3 (ipykernel)",
   "language": "python",
   "name": "python3"
  },
  "language_info": {
   "codemirror_mode": {
    "name": "ipython",
    "version": 3
   },
   "file_extension": ".py",
   "mimetype": "text/x-python",
   "name": "python",
   "nbconvert_exporter": "python",
   "pygments_lexer": "ipython3",
   "version": "3.11.5"
  }
 },
 "nbformat": 4,
 "nbformat_minor": 4
}
